{
  "nbformat": 4,
  "nbformat_minor": 0,
  "metadata": {
    "colab": {
      "provenance": [],
      "authorship_tag": "ABX9TyP4nZqP9ENE82a1kviCafMj",
      "include_colab_link": true
    },
    "kernelspec": {
      "name": "python3",
      "display_name": "Python 3"
    },
    "language_info": {
      "name": "python"
    }
  },
  "cells": [
    {
      "cell_type": "markdown",
      "metadata": {
        "id": "view-in-github",
        "colab_type": "text"
      },
      "source": [
        "<a href=\"https://colab.research.google.com/github/WWasis/BSIS_XANDER-SOTELO/blob/main/Sotelo%2C_Sohn_Xander_S.ipynb\" target=\"_parent\"><img src=\"https://colab.research.google.com/assets/colab-badge.svg\" alt=\"Open In Colab\"/></a>"
      ]
    },
    {
      "cell_type": "code",
      "execution_count": 30,
      "metadata": {
        "id": "P8mcDdIZcSxt"
      },
      "outputs": [],
      "source": [
        "import pandas as pd"
      ]
    },
    {
      "cell_type": "code",
      "source": [
        "df = pd.read_csv(\"https://raw.githubusercontent.com/WWasis/BSIS_XANDER-SOTELO/refs/heads/main/cookie_sales.csv\")"
      ],
      "metadata": {
        "id": "vmlDs5Y8cp37"
      },
      "execution_count": 31,
      "outputs": []
    },
    {
      "cell_type": "code",
      "source": [
        "print(df.to_string())"
      ],
      "metadata": {
        "colab": {
          "base_uri": "https://localhost:8080/"
        },
        "id": "mLXqJTPRIQgi",
        "outputId": "32556304-c412-4977-a89a-cb5e7b349814"
      },
      "execution_count": 32,
      "outputs": [
        {
          "output_type": "stream",
          "name": "stdout",
          "text": [
            "          Date     Cookie_Type  Quantity_Sold  Price_per_Cookie\n",
            "0   2024-02-10   Peanut Butter            NaN              1.80\n",
            "1   2024-01-08   Peanut Butter           36.0              1.38\n",
            "2   2024-01-02   Snickerdoodle           20.0              1.54\n",
            "3   2024-02-17   Peanut Butter           31.0              0.74\n",
            "4   2024-01-18  Chocolate Chip           41.0              0.95\n",
            "5   2024-01-16           Sugar           16.0              1.18\n",
            "6   2024-01-15   Snickerdoodle           47.0              1.68\n",
            "7   2024-01-09  Chocolate Chip           16.0              0.96\n",
            "8   2024-02-17           Sugar           27.0              0.94\n",
            "9   2024-01-07  Chocolate Chip           25.0              0.64\n",
            "10  2024-02-13   Snickerdoodle            8.0              1.76\n",
            "11  2024-02-17   Peanut Butter            5.0              0.96\n",
            "12  2024-02-04   Snickerdoodle            7.0              2.31\n",
            "13  2024-01-06   Peanut Butter           10.0              2.22\n",
            "14  2024-02-07   Snickerdoodle           27.0              0.64\n",
            "15  2024-01-28  Oatmeal Raisin           24.0              0.98\n",
            "16  2024-01-03  Chocolate Chip           29.0              1.84\n",
            "17  2024-01-02  Chocolate Chip           35.0              0.93\n",
            "18  2024-01-06  Oatmeal Raisin            0.0              0.76\n",
            "19  2024-01-14   Peanut Butter            7.0              2.37\n",
            "20  2024-01-15  Chocolate Chip           34.0              1.64\n",
            "21  2024-02-02  Oatmeal Raisin           49.0              1.45\n",
            "22  2024-02-08  Chocolate Chip            7.0              2.07\n",
            "23  2024-01-02           Sugar           10.0              2.11\n",
            "24  2024-02-05   Peanut Butter           46.0              0.88\n",
            "25  2024-01-13           Sugar           16.0              0.69\n",
            "26  2024-02-15   Peanut Butter           48.0              1.36\n",
            "27  2024-02-11  Oatmeal Raisin            6.0              1.35\n",
            "28  2024-02-14   Peanut Butter           19.0              1.43\n",
            "29  2024-02-04   Peanut Butter           32.0              1.96\n",
            "30  2024-01-27  Oatmeal Raisin            9.0              1.85\n",
            "31  2024-01-15   Peanut Butter           10.0              2.47\n",
            "32  2024-01-29  Chocolate Chip           49.0              0.70\n",
            "33  2024-02-07   Snickerdoodle            0.0              1.31\n",
            "34  2024-01-18  Oatmeal Raisin           31.0              1.18\n",
            "35  2024-01-01   Snickerdoodle            NaN              2.22\n",
            "36  2024-02-18  Oatmeal Raisin           19.0              1.00\n",
            "37  2024-01-11  Oatmeal Raisin           15.0              0.88\n",
            "38  2024-02-14           Sugar            5.0              1.40\n",
            "39  2024-01-28           Sugar            NaN              1.34\n",
            "40  2024-01-22   Peanut Butter            4.0              1.06\n",
            "41  2024-01-18   Snickerdoodle           34.0              1.00\n",
            "42  2024-01-10  Oatmeal Raisin            8.0              2.35\n",
            "43  2024-01-14   Peanut Butter           35.0              1.39\n",
            "44  2024-02-18  Chocolate Chip           33.0              2.22\n",
            "45  2024-01-22  Oatmeal Raisin           27.0              1.60\n",
            "46  2024-01-07  Chocolate Chip           34.0              0.60\n",
            "47  2024-01-06   Peanut Butter           44.0              2.50\n",
            "48  2024-01-25           Sugar           19.0              2.17\n",
            "49  2024-01-07   Peanut Butter           42.0              2.44\n",
            "50  2024-01-06   Peanut Butter           10.0              2.22\n",
            "51  2024-01-28           Sugar            NaN              1.34\n",
            "52  2024-01-27  Oatmeal Raisin            9.0              1.85\n",
            "53  2024-01-22  Oatmeal Raisin           27.0              1.60\n",
            "54  2024-01-02  Chocolate Chip           35.0              0.93\n"
          ]
        }
      ]
    },
    {
      "cell_type": "code",
      "source": [
        "df.sort_values('Date', inplace=True)"
      ],
      "metadata": {
        "id": "CMPHA9ktZLzx"
      },
      "execution_count": 33,
      "outputs": []
    },
    {
      "cell_type": "code",
      "source": [
        "df['Quantity_Sold'] = df['Quantity_Sold'].fillna(df['Quantity_Sold'].mean())"
      ],
      "metadata": {
        "id": "ZjtkZiIlI10W"
      },
      "execution_count": 34,
      "outputs": []
    },
    {
      "cell_type": "code",
      "source": [
        "print(df.to_string)"
      ],
      "metadata": {
        "colab": {
          "base_uri": "https://localhost:8080/"
        },
        "id": "ZV7RleRpVpsz",
        "outputId": "1f3f2fbc-eac0-4c90-b79a-8ce9a59a01ca"
      },
      "execution_count": 35,
      "outputs": [
        {
          "output_type": "stream",
          "name": "stdout",
          "text": [
            "<bound method DataFrame.to_string of           Date     Cookie_Type  Quantity_Sold  Price_per_Cookie\n",
            "35  2024-01-01   Snickerdoodle      23.078431              2.22\n",
            "54  2024-01-02  Chocolate Chip      35.000000              0.93\n",
            "2   2024-01-02   Snickerdoodle      20.000000              1.54\n",
            "23  2024-01-02           Sugar      10.000000              2.11\n",
            "17  2024-01-02  Chocolate Chip      35.000000              0.93\n",
            "16  2024-01-03  Chocolate Chip      29.000000              1.84\n",
            "13  2024-01-06   Peanut Butter      10.000000              2.22\n",
            "50  2024-01-06   Peanut Butter      10.000000              2.22\n",
            "18  2024-01-06  Oatmeal Raisin       0.000000              0.76\n",
            "47  2024-01-06   Peanut Butter      44.000000              2.50\n",
            "49  2024-01-07   Peanut Butter      42.000000              2.44\n",
            "46  2024-01-07  Chocolate Chip      34.000000              0.60\n",
            "9   2024-01-07  Chocolate Chip      25.000000              0.64\n",
            "1   2024-01-08   Peanut Butter      36.000000              1.38\n",
            "7   2024-01-09  Chocolate Chip      16.000000              0.96\n",
            "42  2024-01-10  Oatmeal Raisin       8.000000              2.35\n",
            "37  2024-01-11  Oatmeal Raisin      15.000000              0.88\n",
            "25  2024-01-13           Sugar      16.000000              0.69\n",
            "19  2024-01-14   Peanut Butter       7.000000              2.37\n",
            "43  2024-01-14   Peanut Butter      35.000000              1.39\n",
            "20  2024-01-15  Chocolate Chip      34.000000              1.64\n",
            "6   2024-01-15   Snickerdoodle      47.000000              1.68\n",
            "31  2024-01-15   Peanut Butter      10.000000              2.47\n",
            "5   2024-01-16           Sugar      16.000000              1.18\n",
            "41  2024-01-18   Snickerdoodle      34.000000              1.00\n",
            "34  2024-01-18  Oatmeal Raisin      31.000000              1.18\n",
            "4   2024-01-18  Chocolate Chip      41.000000              0.95\n",
            "53  2024-01-22  Oatmeal Raisin      27.000000              1.60\n",
            "40  2024-01-22   Peanut Butter       4.000000              1.06\n",
            "45  2024-01-22  Oatmeal Raisin      27.000000              1.60\n",
            "48  2024-01-25           Sugar      19.000000              2.17\n",
            "30  2024-01-27  Oatmeal Raisin       9.000000              1.85\n",
            "52  2024-01-27  Oatmeal Raisin       9.000000              1.85\n",
            "51  2024-01-28           Sugar      23.078431              1.34\n",
            "39  2024-01-28           Sugar      23.078431              1.34\n",
            "15  2024-01-28  Oatmeal Raisin      24.000000              0.98\n",
            "32  2024-01-29  Chocolate Chip      49.000000              0.70\n",
            "21  2024-02-02  Oatmeal Raisin      49.000000              1.45\n",
            "12  2024-02-04   Snickerdoodle       7.000000              2.31\n",
            "29  2024-02-04   Peanut Butter      32.000000              1.96\n",
            "24  2024-02-05   Peanut Butter      46.000000              0.88\n",
            "14  2024-02-07   Snickerdoodle      27.000000              0.64\n",
            "33  2024-02-07   Snickerdoodle       0.000000              1.31\n",
            "22  2024-02-08  Chocolate Chip       7.000000              2.07\n",
            "0   2024-02-10   Peanut Butter      23.078431              1.80\n",
            "27  2024-02-11  Oatmeal Raisin       6.000000              1.35\n",
            "10  2024-02-13   Snickerdoodle       8.000000              1.76\n",
            "38  2024-02-14           Sugar       5.000000              1.40\n",
            "28  2024-02-14   Peanut Butter      19.000000              1.43\n",
            "26  2024-02-15   Peanut Butter      48.000000              1.36\n",
            "11  2024-02-17   Peanut Butter       5.000000              0.96\n",
            "8   2024-02-17           Sugar      27.000000              0.94\n",
            "3   2024-02-17   Peanut Butter      31.000000              0.74\n",
            "36  2024-02-18  Oatmeal Raisin      19.000000              1.00\n",
            "44  2024-02-18  Chocolate Chip      33.000000              2.22>\n"
          ]
        }
      ]
    },
    {
      "cell_type": "code",
      "source": [
        "df.drop_duplicates(inplace=True)"
      ],
      "metadata": {
        "id": "MlVknFbDJLIr"
      },
      "execution_count": 36,
      "outputs": []
    },
    {
      "cell_type": "code",
      "source": [
        "print(df)"
      ],
      "metadata": {
        "colab": {
          "base_uri": "https://localhost:8080/"
        },
        "id": "F6fDMhYVKKT3",
        "outputId": "46d5f065-804c-4c93-e759-deaafa694fc9"
      },
      "execution_count": 37,
      "outputs": [
        {
          "output_type": "stream",
          "name": "stdout",
          "text": [
            "          Date     Cookie_Type  Quantity_Sold  Price_per_Cookie\n",
            "35  2024-01-01   Snickerdoodle      23.078431              2.22\n",
            "54  2024-01-02  Chocolate Chip      35.000000              0.93\n",
            "2   2024-01-02   Snickerdoodle      20.000000              1.54\n",
            "23  2024-01-02           Sugar      10.000000              2.11\n",
            "16  2024-01-03  Chocolate Chip      29.000000              1.84\n",
            "13  2024-01-06   Peanut Butter      10.000000              2.22\n",
            "18  2024-01-06  Oatmeal Raisin       0.000000              0.76\n",
            "47  2024-01-06   Peanut Butter      44.000000              2.50\n",
            "49  2024-01-07   Peanut Butter      42.000000              2.44\n",
            "46  2024-01-07  Chocolate Chip      34.000000              0.60\n",
            "9   2024-01-07  Chocolate Chip      25.000000              0.64\n",
            "1   2024-01-08   Peanut Butter      36.000000              1.38\n",
            "7   2024-01-09  Chocolate Chip      16.000000              0.96\n",
            "42  2024-01-10  Oatmeal Raisin       8.000000              2.35\n",
            "37  2024-01-11  Oatmeal Raisin      15.000000              0.88\n",
            "25  2024-01-13           Sugar      16.000000              0.69\n",
            "19  2024-01-14   Peanut Butter       7.000000              2.37\n",
            "43  2024-01-14   Peanut Butter      35.000000              1.39\n",
            "20  2024-01-15  Chocolate Chip      34.000000              1.64\n",
            "6   2024-01-15   Snickerdoodle      47.000000              1.68\n",
            "31  2024-01-15   Peanut Butter      10.000000              2.47\n",
            "5   2024-01-16           Sugar      16.000000              1.18\n",
            "41  2024-01-18   Snickerdoodle      34.000000              1.00\n",
            "34  2024-01-18  Oatmeal Raisin      31.000000              1.18\n",
            "4   2024-01-18  Chocolate Chip      41.000000              0.95\n",
            "53  2024-01-22  Oatmeal Raisin      27.000000              1.60\n",
            "40  2024-01-22   Peanut Butter       4.000000              1.06\n",
            "48  2024-01-25           Sugar      19.000000              2.17\n",
            "30  2024-01-27  Oatmeal Raisin       9.000000              1.85\n",
            "51  2024-01-28           Sugar      23.078431              1.34\n",
            "15  2024-01-28  Oatmeal Raisin      24.000000              0.98\n",
            "32  2024-01-29  Chocolate Chip      49.000000              0.70\n",
            "21  2024-02-02  Oatmeal Raisin      49.000000              1.45\n",
            "12  2024-02-04   Snickerdoodle       7.000000              2.31\n",
            "29  2024-02-04   Peanut Butter      32.000000              1.96\n",
            "24  2024-02-05   Peanut Butter      46.000000              0.88\n",
            "14  2024-02-07   Snickerdoodle      27.000000              0.64\n",
            "33  2024-02-07   Snickerdoodle       0.000000              1.31\n",
            "22  2024-02-08  Chocolate Chip       7.000000              2.07\n",
            "0   2024-02-10   Peanut Butter      23.078431              1.80\n",
            "27  2024-02-11  Oatmeal Raisin       6.000000              1.35\n",
            "10  2024-02-13   Snickerdoodle       8.000000              1.76\n",
            "38  2024-02-14           Sugar       5.000000              1.40\n",
            "28  2024-02-14   Peanut Butter      19.000000              1.43\n",
            "26  2024-02-15   Peanut Butter      48.000000              1.36\n",
            "11  2024-02-17   Peanut Butter       5.000000              0.96\n",
            "8   2024-02-17           Sugar      27.000000              0.94\n",
            "3   2024-02-17   Peanut Butter      31.000000              0.74\n",
            "36  2024-02-18  Oatmeal Raisin      19.000000              1.00\n",
            "44  2024-02-18  Chocolate Chip      33.000000              2.22\n"
          ]
        }
      ]
    },
    {
      "cell_type": "code",
      "source": [
        "df['Total_Sales'] = df['Quantity_Sold'] * df['Price_per_Cookie']"
      ],
      "metadata": {
        "id": "wW8RoWxPYGQN"
      },
      "execution_count": 38,
      "outputs": []
    },
    {
      "cell_type": "code",
      "source": [
        "print(df)"
      ],
      "metadata": {
        "colab": {
          "base_uri": "https://localhost:8080/"
        },
        "id": "1Ik4qY6wYIRs",
        "outputId": "43c7634d-9469-4c35-8d16-69eca5b8843a"
      },
      "execution_count": 39,
      "outputs": [
        {
          "output_type": "stream",
          "name": "stdout",
          "text": [
            "          Date     Cookie_Type  Quantity_Sold  Price_per_Cookie  Total_Sales\n",
            "35  2024-01-01   Snickerdoodle      23.078431              2.22    51.234118\n",
            "54  2024-01-02  Chocolate Chip      35.000000              0.93    32.550000\n",
            "2   2024-01-02   Snickerdoodle      20.000000              1.54    30.800000\n",
            "23  2024-01-02           Sugar      10.000000              2.11    21.100000\n",
            "16  2024-01-03  Chocolate Chip      29.000000              1.84    53.360000\n",
            "13  2024-01-06   Peanut Butter      10.000000              2.22    22.200000\n",
            "18  2024-01-06  Oatmeal Raisin       0.000000              0.76     0.000000\n",
            "47  2024-01-06   Peanut Butter      44.000000              2.50   110.000000\n",
            "49  2024-01-07   Peanut Butter      42.000000              2.44   102.480000\n",
            "46  2024-01-07  Chocolate Chip      34.000000              0.60    20.400000\n",
            "9   2024-01-07  Chocolate Chip      25.000000              0.64    16.000000\n",
            "1   2024-01-08   Peanut Butter      36.000000              1.38    49.680000\n",
            "7   2024-01-09  Chocolate Chip      16.000000              0.96    15.360000\n",
            "42  2024-01-10  Oatmeal Raisin       8.000000              2.35    18.800000\n",
            "37  2024-01-11  Oatmeal Raisin      15.000000              0.88    13.200000\n",
            "25  2024-01-13           Sugar      16.000000              0.69    11.040000\n",
            "19  2024-01-14   Peanut Butter       7.000000              2.37    16.590000\n",
            "43  2024-01-14   Peanut Butter      35.000000              1.39    48.650000\n",
            "20  2024-01-15  Chocolate Chip      34.000000              1.64    55.760000\n",
            "6   2024-01-15   Snickerdoodle      47.000000              1.68    78.960000\n",
            "31  2024-01-15   Peanut Butter      10.000000              2.47    24.700000\n",
            "5   2024-01-16           Sugar      16.000000              1.18    18.880000\n",
            "41  2024-01-18   Snickerdoodle      34.000000              1.00    34.000000\n",
            "34  2024-01-18  Oatmeal Raisin      31.000000              1.18    36.580000\n",
            "4   2024-01-18  Chocolate Chip      41.000000              0.95    38.950000\n",
            "53  2024-01-22  Oatmeal Raisin      27.000000              1.60    43.200000\n",
            "40  2024-01-22   Peanut Butter       4.000000              1.06     4.240000\n",
            "48  2024-01-25           Sugar      19.000000              2.17    41.230000\n",
            "30  2024-01-27  Oatmeal Raisin       9.000000              1.85    16.650000\n",
            "51  2024-01-28           Sugar      23.078431              1.34    30.925098\n",
            "15  2024-01-28  Oatmeal Raisin      24.000000              0.98    23.520000\n",
            "32  2024-01-29  Chocolate Chip      49.000000              0.70    34.300000\n",
            "21  2024-02-02  Oatmeal Raisin      49.000000              1.45    71.050000\n",
            "12  2024-02-04   Snickerdoodle       7.000000              2.31    16.170000\n",
            "29  2024-02-04   Peanut Butter      32.000000              1.96    62.720000\n",
            "24  2024-02-05   Peanut Butter      46.000000              0.88    40.480000\n",
            "14  2024-02-07   Snickerdoodle      27.000000              0.64    17.280000\n",
            "33  2024-02-07   Snickerdoodle       0.000000              1.31     0.000000\n",
            "22  2024-02-08  Chocolate Chip       7.000000              2.07    14.490000\n",
            "0   2024-02-10   Peanut Butter      23.078431              1.80    41.541176\n",
            "27  2024-02-11  Oatmeal Raisin       6.000000              1.35     8.100000\n",
            "10  2024-02-13   Snickerdoodle       8.000000              1.76    14.080000\n",
            "38  2024-02-14           Sugar       5.000000              1.40     7.000000\n",
            "28  2024-02-14   Peanut Butter      19.000000              1.43    27.170000\n",
            "26  2024-02-15   Peanut Butter      48.000000              1.36    65.280000\n",
            "11  2024-02-17   Peanut Butter       5.000000              0.96     4.800000\n",
            "8   2024-02-17           Sugar      27.000000              0.94    25.380000\n",
            "3   2024-02-17   Peanut Butter      31.000000              0.74    22.940000\n",
            "36  2024-02-18  Oatmeal Raisin      19.000000              1.00    19.000000\n",
            "44  2024-02-18  Chocolate Chip      33.000000              2.22    73.260000\n"
          ]
        }
      ]
    }
  ]
}