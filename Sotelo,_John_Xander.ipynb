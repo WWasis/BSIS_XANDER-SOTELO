{
  "nbformat": 4,
  "nbformat_minor": 0,
  "metadata": {
    "colab": {
      "provenance": [],
      "authorship_tag": "ABX9TyOmjDCqzBKUjM57wyU9BMeW",
      "include_colab_link": true
    },
    "kernelspec": {
      "name": "python3",
      "display_name": "Python 3"
    },
    "language_info": {
      "name": "python"
    }
  },
  "cells": [
    {
      "cell_type": "markdown",
      "metadata": {
        "id": "view-in-github",
        "colab_type": "text"
      },
      "source": [
        "<a href=\"https://colab.research.google.com/github/WWasis/BSIS_XANDER-SOTELO/blob/main/Sotelo%2C_John_Xander.ipynb\" target=\"_parent\"><img src=\"https://colab.research.google.com/assets/colab-badge.svg\" alt=\"Open In Colab\"/></a>"
      ]
    },
    {
      "cell_type": "code",
      "execution_count": 1,
      "metadata": {
        "id": "P8mcDdIZcSxt"
      },
      "outputs": [],
      "source": [
        "import pandas as pd"
      ]
    },
    {
      "cell_type": "code",
      "source": [
        "df = pd.read_csv(\"https://raw.githubusercontent.com/WWasis/BSIS_XANDER-SOTELO/refs/heads/main/cookie_sales.csv\")"
      ],
      "metadata": {
        "id": "vmlDs5Y8cp37"
      },
      "execution_count": 2,
      "outputs": []
    },
    {
      "cell_type": "code",
      "source": [
        "print(df.to_string())"
      ],
      "metadata": {
        "colab": {
          "base_uri": "https://localhost:8080/"
        },
        "id": "mLXqJTPRIQgi",
        "outputId": "2121f3c7-e9d7-43bd-b865-bdb8766b48d2"
      },
      "execution_count": 4,
      "outputs": [
        {
          "output_type": "stream",
          "name": "stdout",
          "text": [
            "          Date     Cookie_Type  Quantity_Sold  Price_per_Cookie\n",
            "0   2024-02-10   Peanut Butter            NaN              1.80\n",
            "1   2024-01-08   Peanut Butter           36.0              1.38\n",
            "2   2024-01-02   Snickerdoodle           20.0              1.54\n",
            "3   2024-02-17   Peanut Butter           31.0              0.74\n",
            "4   2024-01-18  Chocolate Chip           41.0              0.95\n",
            "5   2024-01-16           Sugar           16.0              1.18\n",
            "6   2024-01-15   Snickerdoodle           47.0              1.68\n",
            "7   2024-01-09  Chocolate Chip           16.0              0.96\n",
            "8   2024-02-17           Sugar           27.0              0.94\n",
            "9   2024-01-07  Chocolate Chip           25.0              0.64\n",
            "10  2024-02-13   Snickerdoodle            8.0              1.76\n",
            "11  2024-02-17   Peanut Butter            5.0              0.96\n",
            "12  2024-02-04   Snickerdoodle            7.0              2.31\n",
            "13  2024-01-06   Peanut Butter           10.0              2.22\n",
            "14  2024-02-07   Snickerdoodle           27.0              0.64\n",
            "15  2024-01-28  Oatmeal Raisin           24.0              0.98\n",
            "16  2024-01-03  Chocolate Chip           29.0              1.84\n",
            "17  2024-01-02  Chocolate Chip           35.0              0.93\n",
            "18  2024-01-06  Oatmeal Raisin            0.0              0.76\n",
            "19  2024-01-14   Peanut Butter            7.0              2.37\n",
            "20  2024-01-15  Chocolate Chip           34.0              1.64\n",
            "21  2024-02-02  Oatmeal Raisin           49.0              1.45\n",
            "22  2024-02-08  Chocolate Chip            7.0              2.07\n",
            "23  2024-01-02           Sugar           10.0              2.11\n",
            "24  2024-02-05   Peanut Butter           46.0              0.88\n",
            "25  2024-01-13           Sugar           16.0              0.69\n",
            "26  2024-02-15   Peanut Butter           48.0              1.36\n",
            "27  2024-02-11  Oatmeal Raisin            6.0              1.35\n",
            "28  2024-02-14   Peanut Butter           19.0              1.43\n",
            "29  2024-02-04   Peanut Butter           32.0              1.96\n",
            "30  2024-01-27  Oatmeal Raisin            9.0              1.85\n",
            "31  2024-01-15   Peanut Butter           10.0              2.47\n",
            "32  2024-01-29  Chocolate Chip           49.0              0.70\n",
            "33  2024-02-07   Snickerdoodle            0.0              1.31\n",
            "34  2024-01-18  Oatmeal Raisin           31.0              1.18\n",
            "35  2024-01-01   Snickerdoodle            NaN              2.22\n",
            "36  2024-02-18  Oatmeal Raisin           19.0              1.00\n",
            "37  2024-01-11  Oatmeal Raisin           15.0              0.88\n",
            "38  2024-02-14           Sugar            5.0              1.40\n",
            "39  2024-01-28           Sugar            NaN              1.34\n",
            "40  2024-01-22   Peanut Butter            4.0              1.06\n",
            "41  2024-01-18   Snickerdoodle           34.0              1.00\n",
            "42  2024-01-10  Oatmeal Raisin            8.0              2.35\n",
            "43  2024-01-14   Peanut Butter           35.0              1.39\n",
            "44  2024-02-18  Chocolate Chip           33.0              2.22\n",
            "45  2024-01-22  Oatmeal Raisin           27.0              1.60\n",
            "46  2024-01-07  Chocolate Chip           34.0              0.60\n",
            "47  2024-01-06   Peanut Butter           44.0              2.50\n",
            "48  2024-01-25           Sugar           19.0              2.17\n",
            "49  2024-01-07   Peanut Butter           42.0              2.44\n",
            "50  2024-01-06   Peanut Butter           10.0              2.22\n",
            "51  2024-01-28           Sugar            NaN              1.34\n",
            "52  2024-01-27  Oatmeal Raisin            9.0              1.85\n",
            "53  2024-01-22  Oatmeal Raisin           27.0              1.60\n",
            "54  2024-01-02  Chocolate Chip           35.0              0.93\n"
          ]
        }
      ]
    },
    {
      "cell_type": "code",
      "source": [
        "df.fillna(0, inplace=True)"
      ],
      "metadata": {
        "id": "ZjtkZiIlI10W"
      },
      "execution_count": 5,
      "outputs": []
    },
    {
      "cell_type": "code",
      "source": [
        "print(df.fillna)"
      ],
      "metadata": {
        "colab": {
          "base_uri": "https://localhost:8080/"
        },
        "id": "MlVknFbDJLIr",
        "outputId": "b719e8cf-879c-45b9-d760-7f461177922f"
      },
      "execution_count": 7,
      "outputs": [
        {
          "output_type": "stream",
          "name": "stdout",
          "text": [
            "<bound method NDFrame.fillna of           Date     Cookie_Type  Quantity_Sold  Price_per_Cookie\n",
            "0   2024-02-10   Peanut Butter            0.0              1.80\n",
            "1   2024-01-08   Peanut Butter           36.0              1.38\n",
            "2   2024-01-02   Snickerdoodle           20.0              1.54\n",
            "3   2024-02-17   Peanut Butter           31.0              0.74\n",
            "4   2024-01-18  Chocolate Chip           41.0              0.95\n",
            "5   2024-01-16           Sugar           16.0              1.18\n",
            "6   2024-01-15   Snickerdoodle           47.0              1.68\n",
            "7   2024-01-09  Chocolate Chip           16.0              0.96\n",
            "8   2024-02-17           Sugar           27.0              0.94\n",
            "9   2024-01-07  Chocolate Chip           25.0              0.64\n",
            "10  2024-02-13   Snickerdoodle            8.0              1.76\n",
            "11  2024-02-17   Peanut Butter            5.0              0.96\n",
            "12  2024-02-04   Snickerdoodle            7.0              2.31\n",
            "13  2024-01-06   Peanut Butter           10.0              2.22\n",
            "14  2024-02-07   Snickerdoodle           27.0              0.64\n",
            "15  2024-01-28  Oatmeal Raisin           24.0              0.98\n",
            "16  2024-01-03  Chocolate Chip           29.0              1.84\n",
            "17  2024-01-02  Chocolate Chip           35.0              0.93\n",
            "18  2024-01-06  Oatmeal Raisin            0.0              0.76\n",
            "19  2024-01-14   Peanut Butter            7.0              2.37\n",
            "20  2024-01-15  Chocolate Chip           34.0              1.64\n",
            "21  2024-02-02  Oatmeal Raisin           49.0              1.45\n",
            "22  2024-02-08  Chocolate Chip            7.0              2.07\n",
            "23  2024-01-02           Sugar           10.0              2.11\n",
            "24  2024-02-05   Peanut Butter           46.0              0.88\n",
            "25  2024-01-13           Sugar           16.0              0.69\n",
            "26  2024-02-15   Peanut Butter           48.0              1.36\n",
            "27  2024-02-11  Oatmeal Raisin            6.0              1.35\n",
            "28  2024-02-14   Peanut Butter           19.0              1.43\n",
            "29  2024-02-04   Peanut Butter           32.0              1.96\n",
            "30  2024-01-27  Oatmeal Raisin            9.0              1.85\n",
            "31  2024-01-15   Peanut Butter           10.0              2.47\n",
            "32  2024-01-29  Chocolate Chip           49.0              0.70\n",
            "33  2024-02-07   Snickerdoodle            0.0              1.31\n",
            "34  2024-01-18  Oatmeal Raisin           31.0              1.18\n",
            "35  2024-01-01   Snickerdoodle            0.0              2.22\n",
            "36  2024-02-18  Oatmeal Raisin           19.0              1.00\n",
            "37  2024-01-11  Oatmeal Raisin           15.0              0.88\n",
            "38  2024-02-14           Sugar            5.0              1.40\n",
            "39  2024-01-28           Sugar            0.0              1.34\n",
            "40  2024-01-22   Peanut Butter            4.0              1.06\n",
            "41  2024-01-18   Snickerdoodle           34.0              1.00\n",
            "42  2024-01-10  Oatmeal Raisin            8.0              2.35\n",
            "43  2024-01-14   Peanut Butter           35.0              1.39\n",
            "44  2024-02-18  Chocolate Chip           33.0              2.22\n",
            "45  2024-01-22  Oatmeal Raisin           27.0              1.60\n",
            "46  2024-01-07  Chocolate Chip           34.0              0.60\n",
            "47  2024-01-06   Peanut Butter           44.0              2.50\n",
            "48  2024-01-25           Sugar           19.0              2.17\n",
            "49  2024-01-07   Peanut Butter           42.0              2.44\n",
            "50  2024-01-06   Peanut Butter           10.0              2.22\n",
            "51  2024-01-28           Sugar            0.0              1.34\n",
            "52  2024-01-27  Oatmeal Raisin            9.0              1.85\n",
            "53  2024-01-22  Oatmeal Raisin           27.0              1.60\n",
            "54  2024-01-02  Chocolate Chip           35.0              0.93>\n"
          ]
        }
      ]
    },
    {
      "cell_type": "code",
      "source": [
        "df.drop_duplicates(inplace=True)"
      ],
      "metadata": {
        "id": "ne-eCu-pJYVA"
      },
      "execution_count": 8,
      "outputs": []
    },
    {
      "cell_type": "code",
      "source": [
        "print(df)"
      ],
      "metadata": {
        "colab": {
          "base_uri": "https://localhost:8080/"
        },
        "id": "F6fDMhYVKKT3",
        "outputId": "5d50f760-84c5-48a9-fa1a-490a5a83b505"
      },
      "execution_count": 11,
      "outputs": [
        {
          "output_type": "stream",
          "name": "stdout",
          "text": [
            "          Date     Cookie_Type  Quantity_Sold  Price_per_Cookie\n",
            "0   2024-02-10   Peanut Butter            0.0              1.80\n",
            "1   2024-01-08   Peanut Butter           36.0              1.38\n",
            "2   2024-01-02   Snickerdoodle           20.0              1.54\n",
            "3   2024-02-17   Peanut Butter           31.0              0.74\n",
            "4   2024-01-18  Chocolate Chip           41.0              0.95\n",
            "5   2024-01-16           Sugar           16.0              1.18\n",
            "6   2024-01-15   Snickerdoodle           47.0              1.68\n",
            "7   2024-01-09  Chocolate Chip           16.0              0.96\n",
            "8   2024-02-17           Sugar           27.0              0.94\n",
            "9   2024-01-07  Chocolate Chip           25.0              0.64\n",
            "10  2024-02-13   Snickerdoodle            8.0              1.76\n",
            "11  2024-02-17   Peanut Butter            5.0              0.96\n",
            "12  2024-02-04   Snickerdoodle            7.0              2.31\n",
            "13  2024-01-06   Peanut Butter           10.0              2.22\n",
            "14  2024-02-07   Snickerdoodle           27.0              0.64\n",
            "15  2024-01-28  Oatmeal Raisin           24.0              0.98\n",
            "16  2024-01-03  Chocolate Chip           29.0              1.84\n",
            "17  2024-01-02  Chocolate Chip           35.0              0.93\n",
            "18  2024-01-06  Oatmeal Raisin            0.0              0.76\n",
            "19  2024-01-14   Peanut Butter            7.0              2.37\n",
            "20  2024-01-15  Chocolate Chip           34.0              1.64\n",
            "21  2024-02-02  Oatmeal Raisin           49.0              1.45\n",
            "22  2024-02-08  Chocolate Chip            7.0              2.07\n",
            "23  2024-01-02           Sugar           10.0              2.11\n",
            "24  2024-02-05   Peanut Butter           46.0              0.88\n",
            "25  2024-01-13           Sugar           16.0              0.69\n",
            "26  2024-02-15   Peanut Butter           48.0              1.36\n",
            "27  2024-02-11  Oatmeal Raisin            6.0              1.35\n",
            "28  2024-02-14   Peanut Butter           19.0              1.43\n",
            "29  2024-02-04   Peanut Butter           32.0              1.96\n",
            "30  2024-01-27  Oatmeal Raisin            9.0              1.85\n",
            "31  2024-01-15   Peanut Butter           10.0              2.47\n",
            "32  2024-01-29  Chocolate Chip           49.0              0.70\n",
            "33  2024-02-07   Snickerdoodle            0.0              1.31\n",
            "34  2024-01-18  Oatmeal Raisin           31.0              1.18\n",
            "35  2024-01-01   Snickerdoodle            0.0              2.22\n",
            "36  2024-02-18  Oatmeal Raisin           19.0              1.00\n",
            "37  2024-01-11  Oatmeal Raisin           15.0              0.88\n",
            "38  2024-02-14           Sugar            5.0              1.40\n",
            "39  2024-01-28           Sugar            0.0              1.34\n",
            "40  2024-01-22   Peanut Butter            4.0              1.06\n",
            "41  2024-01-18   Snickerdoodle           34.0              1.00\n",
            "42  2024-01-10  Oatmeal Raisin            8.0              2.35\n",
            "43  2024-01-14   Peanut Butter           35.0              1.39\n",
            "44  2024-02-18  Chocolate Chip           33.0              2.22\n",
            "45  2024-01-22  Oatmeal Raisin           27.0              1.60\n",
            "46  2024-01-07  Chocolate Chip           34.0              0.60\n",
            "47  2024-01-06   Peanut Butter           44.0              2.50\n",
            "48  2024-01-25           Sugar           19.0              2.17\n",
            "49  2024-01-07   Peanut Butter           42.0              2.44\n"
          ]
        }
      ]
    }
  ]
}